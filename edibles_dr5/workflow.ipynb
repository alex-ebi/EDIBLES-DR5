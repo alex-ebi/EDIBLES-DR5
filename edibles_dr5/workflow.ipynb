{
 "cells": [
  {
   "cell_type": "markdown",
   "id": "b513282d-c48f-4edb-be3f-ceb3a19b133d",
   "metadata": {},
   "source": [
    "# This is the workflow of my EDR5 reduction\n",
    "First, we download a collection of flats from the ESO archive WITH night logs!\n",
    "\n",
    "## Parameters:\n",
    "### General:\n",
    "Night: 2017 01 01 .. 2017 12 31\n",
    "User defined input: LAMP,FLAT\\\n",
    "Mode: ECHELLE\\\n",
    "Slit: FREE\n",
    "\n",
    "### Setting specific:\n",
    "346 nm setting:\\\n",
    "TPL ID: UVES_dic1_cal_flatfree\\\n",
    "(Exptime: 20 .. 100000)\\\n",
    "Filter bandpass: HER_5\\\n",
    "Grating: CD#1\n",
    "\n",
    "437 nm setting:\\\n",
    "TPL ID: UVES_dic2_cal_flatfree\\\n",
    "(Exptime: 110 .. 100000)\\\n",
    "Filter bandpass: HER_5\\\n",
    "Grating: CD#2\n",
    "\n",
    "564 nm setting:\\\n",
    "TPL ID: UVES_dic1_cal_flatfree\\\n",
    "(Exptime: 14 .. 100000)\\\n",
    "Filter bandpass: SHP700\\\n",
    "Grating: CD#3\n",
    "\n",
    "860 nm setting:\\\n",
    "TPL ID: UVES_dic2_cal_flatfree\\\n",
    "(Exptime: 23 .. 100000)\\\n",
    "Filter bandpass: OG590\\\n",
    "Grating: CD#4\n",
    "\n",
    "Respective download scripts are supplied\n",
    "\n"
   ]
  },
  {
   "cell_type": "code",
   "execution_count": 1,
   "id": "b6dc9014-71bc-45e0-834f-daecbaf8bedb",
   "metadata": {
    "ExecuteTime": {
     "end_time": "2024-11-26T08:08:33.975459Z",
     "start_time": "2024-11-26T08:08:33.970883Z"
    }
   },
   "outputs": [],
   "source": [
    "from pathlib import Path\n",
    "import os\n",
    "from edibles_dr5.paths import edr5_dir, edps_dir\n",
    "from importlib.resources import files\n",
    "\n",
    "flat_dir = edr5_dir / 'calib_raw'\n"
   ]
  },
  {
   "cell_type": "markdown",
   "id": "1eee800738a740fc",
   "metadata": {},
   "source": [
    "## Download flats for super flats\n"
   ]
  },
  {
   "cell_type": "code",
   "execution_count": null,
   "id": "282f9a374cd0a13a",
   "metadata": {
    "ExecuteTime": {
     "end_time": "2024-11-25T09:33:06.412896Z",
     "start_time": "2024-11-25T09:28:10.114626Z"
    }
   },
   "outputs": [],
   "source": [
    "flat_dir.mkdir(exist_ok=True)\n",
    "download_script_dir = files('edibles_dr5') / 'supporting_data'\n",
    "\n",
    "# Execute shell scripts\n",
    "os.chdir(flat_dir)\n",
    "# script_names = ['downloadScript_346nm.sh', 'downloadScript_437nm.sh', 'downloadScript_564nm.sh',\n",
    "#                 'downloadScript_860nm.sh']\n",
    "script_names = ['downloadScript_437nm.sh', 'downloadScript_564nm.sh', 'downloadScript_860nm.sh']\n",
    "for script in script_names:\n",
    "    os.system(f'chmod u+x {download_script_dir / script}')\n",
    "    os.system(f'{download_script_dir / script}')\n",
    "    print(f'source {download_script_dir / script}')\n",
    "# Uncompress files\n",
    "os.system('uncompress *.Z')"
   ]
  },
  {
   "cell_type": "markdown",
   "id": "e578b8e2688dfc56",
   "metadata": {},
   "source": [
    "## Download BIAS for super BIAS\n",
    "It is possible that a lot of noise is introduced by noisy bias frames. This is why we make a super bias too."
   ]
  },
  {
   "cell_type": "markdown",
   "id": "784b38cf8497e04",
   "metadata": {},
   "source": [
    "## Download BIAS, ORDERDEF and FMTCHK files for FLATS\n",
    "The downloaded flats are raw and need their respective bias and orderdef files. Those are specified in the night logs."
   ]
  },
  {
   "cell_type": "code",
   "execution_count": null,
   "id": "af58b68089c5a4d7",
   "metadata": {
    "ExecuteTime": {
     "end_time": "2024-11-25T10:15:31.088089Z",
     "start_time": "2024-11-25T10:15:29.862210Z"
    }
   },
   "outputs": [],
   "source": [
    "from edibles_dr5.flats import download_associated_bias_orderdef\n",
    "\n",
    "download_associated_bias_orderdef.main(flat_dir)"
   ]
  },
  {
   "cell_type": "markdown",
   "id": "b8cc8656320b0aee",
   "metadata": {},
   "source": [
    "## Make master biases with EDPS"
   ]
  },
  {
   "cell_type": "code",
   "execution_count": null,
   "id": "5c4b04e038f77fe6",
   "metadata": {
    "ExecuteTime": {
     "end_time": "2024-11-26T08:08:38.919034Z",
     "start_time": "2024-11-26T08:08:38.916581Z"
    }
   },
   "outputs": [],
   "source": [
    "# bias_dir = edr5_dir / 'bias'\n",
    "# os.system(f'{edps_dir / \"bin/python3\"} {edps_dir / \"bin/edps\"} -w uves.uves_wkf -i {bias_dir} -t bias')"
   ]
  },
  {
   "cell_type": "markdown",
   "id": "16aef51f3bbb7410",
   "metadata": {},
   "source": [
    "## Make master flats with EDPS"
   ]
  },
  {
   "cell_type": "code",
   "execution_count": 2,
   "id": "76a5e6e236f3ea55",
   "metadata": {
    "ExecuteTime": {
     "end_time": "2024-11-26T08:36:02.414195Z",
     "start_time": "2024-11-26T08:36:02.267268Z"
    }
   },
   "outputs": [
    {
     "name": "stdout",
     "output_type": "stream",
     "text": [
      "/home/alex/PycharmProjects/edps/bin/python3 /home/alex/PycharmProjects/edps/bin/edps -w uves.uves_wkf -i /home/alex/data/EDR5/calib_raw -t flat\n"
     ]
    }
   ],
   "source": [
    "print(f'{edps_dir / \"bin/python3\"} {edps_dir / \"bin/edps\"} -w uves.uves_wkf -i {flat_dir} -t flat')\n",
    "\n",
    "# os.system(f'{edps_dir / \"bin/python3\"} {edps_dir / \"bin/edps\"} -w uves.uves_wkf -i {flat_dir} -t flat')\n"
   ]
  },
  {
   "cell_type": "markdown",
   "id": "3fd942f98fbfbb23",
   "metadata": {},
   "source": [
    "## Make super biases\n",
    "More master biases are created while making the master flats"
   ]
  },
  {
   "cell_type": "code",
   "execution_count": null,
   "id": "fc70e7088a37fed1",
   "metadata": {},
   "outputs": [],
   "source": [
    "# from edibles_dr5.bias import make_superbias\n",
    "\n",
    "# make_superbias.main()"
   ]
  },
  {
   "cell_type": "markdown",
   "id": "35b56b8f678b14da",
   "metadata": {},
   "source": [
    "## Make super flats"
   ]
  },
  {
   "cell_type": "code",
   "execution_count": null,
   "id": "1f6948a561b76913",
   "metadata": {},
   "outputs": [],
   "source": [
    "from edibles_dr5.flats import make_superflat\n",
    "\n",
    "make_superflat.main()"
   ]
  },
  {
   "cell_type": "markdown",
   "id": "10aac454f7b45479",
   "metadata": {},
   "source": [
    "## Run EDPS reduction on object data"
   ]
  },
  {
   "cell_type": "code",
   "execution_count": null,
   "id": "56a408a17d93fe67",
   "metadata": {},
   "outputs": [],
   "source": [
    "os.system(f'{edps_dir / \"bin/python3\"} {edps_dir / \"bin/edps\"} -w uves.uves_wkf -i {edr5_dir / \"HD170740_07_2017\"}')"
   ]
  },
  {
   "cell_type": "markdown",
   "id": "d905adaad04d63",
   "metadata": {},
   "source": [
    "## Rerun reductions with superflats"
   ]
  },
  {
   "cell_type": "code",
   "execution_count": null,
   "id": "dfd7daf44cc63aa9",
   "metadata": {},
   "outputs": [],
   "source": [
    "from edibles_dr5.esorex import extract_with_error\n",
    "\n",
    "extract_with_error.main()"
   ]
  }
 ],
 "metadata": {
  "kernelspec": {
   "display_name": ".venv",
   "language": "python",
   "name": "python3"
  },
  "language_info": {
   "codemirror_mode": {
    "name": "ipython",
    "version": 3
   },
   "file_extension": ".py",
   "mimetype": "text/x-python",
   "name": "python",
   "nbconvert_exporter": "python",
   "pygments_lexer": "ipython3",
   "version": "3.12.3"
  }
 },
 "nbformat": 4,
 "nbformat_minor": 5
}
