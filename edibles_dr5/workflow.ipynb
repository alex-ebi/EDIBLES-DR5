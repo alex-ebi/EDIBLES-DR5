{
 "cells": [
  {
   "cell_type": "markdown",
   "id": "b513282d-c48f-4edb-be3f-ceb3a19b133d",
   "metadata": {},
   "source": [
    "# This is the workflow of my EDR5 reduction\n",
    "First, we download a collection of flats from the ESO archive WITH night logs!\n",
    "\n",
    "## Parameters:\n",
    "### General:\n",
    "Night: 2014 01 01 .. 2019 12 31\n",
    "User defined input: LAMP,FLAT\\\n",
    "Mode: ECHELLE\\\n",
    "Slit: FREE\n",
    "\n",
    "### Setting specific:\n",
    "346 nm setting:\\\n",
    "TPL ID: UVES_dic1_cal_flatfree\\\n",
    "(Exptime: 10 .. 100000 (TB 3))\\\n",
    "(Exptime: 30 .. 100000 (TB 7))\\\n",
    "Filter bandpass: HER_5\\\n",
    "Grating: CD#1\n",
    "\n",
    "437 nm setting:\\\n",
    "TPL ID: UVES_dic2_cal_flatfree\\\n",
    "(Exptime: 50 .. 100000 (TB 3))\\\n",
    "(Exptime: 100 .. 100000 (TB 2))\\\n",
    "(Exptime: 50 .. 100000 (TB 7))\\\n",
    "Filter bandpass: HER_5\\\n",
    "Grating: CD#2\n",
    "\n",
    "564 nm setting:\\\n",
    "TPL ID: UVES_dic1_cal_flatfree\\\n",
    "(Exptime: 14 .. 100000 (TB 3))\\\n",
    "(Exptime: 20 .. 100000 (TB 7))\\\n",
    "Filter bandpass: SHP700\\\n",
    "Grating: CD#3\n",
    "\n",
    "860 nm setting:\\\n",
    "TPL ID: UVES_dic2_cal_flatfree\\\n",
    "(Exptime: 23 .. 100000 (TB 3))\\\n",
    "(Exptime: 40 .. 100000 (TB 2))\\\n",
    "(Exptime: 40 .. 100000 (TB 7))\\\n",
    "Filter bandpass: OG590\\\n",
    "Grating: CD#4\n",
    "\n",
    "Respective download scripts are supplied\n",
    "\n"
   ]
  },
  {
   "cell_type": "code",
   "execution_count": 1,
   "id": "b6dc9014-71bc-45e0-834f-daecbaf8bedb",
   "metadata": {
    "ExecuteTime": {
     "end_time": "2024-11-26T08:08:33.975459Z",
     "start_time": "2024-11-26T08:08:33.970883Z"
    }
   },
   "outputs": [],
   "source": [
    "import os\n",
    "from edibles_dr5.paths import edr5_dir, edps_dir\n",
    "from importlib.resources import files\n",
    "\n",
    "edr5_dir.mkdir(exist_ok=True)\n",
    "flat_dir = edr5_dir / 'calib_raw'\n"
   ]
  },
  {
   "cell_type": "markdown",
   "id": "1eee800738a740fc",
   "metadata": {},
   "source": [
    "## Download flats for super flats\n"
   ]
  },
  {
   "cell_type": "code",
   "execution_count": 2,
   "id": "282f9a374cd0a13a",
   "metadata": {
    "ExecuteTime": {
     "end_time": "2024-11-25T09:33:06.412896Z",
     "start_time": "2024-11-25T09:28:10.114626Z"
    }
   },
   "outputs": [
    {
     "name": "stdout",
     "output_type": "stream",
     "text": [
      "source /home/alex/PycharmProjects/EDIBLES-DR5/edibles_dr5/supporting_data/downloadScript_346nm.sh\n",
      "source /home/alex/PycharmProjects/EDIBLES-DR5/edibles_dr5/supporting_data/downloadScript_437nm.sh\n",
      "source /home/alex/PycharmProjects/EDIBLES-DR5/edibles_dr5/supporting_data/downloadScript_564nm.sh\n",
      "source /home/alex/PycharmProjects/EDIBLES-DR5/edibles_dr5/supporting_data/downloadScript_860nm.sh\n"
     ]
    }
   ],
   "source": [
    "flat_dir.mkdir(exist_ok=True)\n",
    "download_script_dir = files('edibles_dr5') / 'supporting_data'\n",
    "\n",
    "# Execute shell scripts\n",
    "os.chdir(flat_dir)\n",
    "script_names = ['downloadScript_346nm.sh', 'downloadScript_437nm.sh', 'downloadScript_564nm.sh',\n",
    "                'downloadScript_860nm.sh']\n",
    "\n",
    "for script in script_names:\n",
    "    # os.system(f'chmod u+x {download_script_dir / script}')\n",
    "    # os.system(f'{download_script_dir / script}')\n",
    "    print(f'source {download_script_dir / script}')\n",
    "# Uncompress files\n",
    "# os.system('uncompress *.Z')"
   ]
  },
  {
   "cell_type": "markdown",
   "id": "784b38cf8497e04",
   "metadata": {},
   "source": [
    "## Download BIAS, ORDERDEF and FMTCHK files for FLATS\n",
    "The downloaded flats are raw and need their respective bias and orderdef files. Those are specified in the night logs."
   ]
  },
  {
   "cell_type": "code",
   "execution_count": null,
   "id": "af58b68089c5a4d7",
   "metadata": {
    "ExecuteTime": {
     "end_time": "2024-11-25T10:15:31.088089Z",
     "start_time": "2024-11-25T10:15:29.862210Z"
    }
   },
   "outputs": [],
   "source": [
    "from edibles_dr5.flats import download_associated_bias_orderdef\n",
    "\n",
    "download_associated_bias_orderdef.main(flat_dir)"
   ]
  },
  {
   "cell_type": "markdown",
   "id": "16aef51f3bbb7410",
   "metadata": {},
   "source": [
    "## Make master flats with EDPS"
   ]
  },
  {
   "cell_type": "code",
   "execution_count": null,
   "id": "76a5e6e236f3ea55",
   "metadata": {
    "ExecuteTime": {
     "end_time": "2024-11-26T08:36:02.414195Z",
     "start_time": "2024-11-26T08:36:02.267268Z"
    }
   },
   "outputs": [],
   "source": [
    "print(f'{edps_dir / \"bin/python3\"} {edps_dir / \"bin/edps\"} -w uves.uves_wkf -i {flat_dir} -t flat')\n",
    "\n",
    "os.system(f'{edps_dir / \"bin/python3\"} {edps_dir / \"bin/edps\"} -w uves.uves_wkf -i {flat_dir} -t flat')\n"
   ]
  },
  {
   "cell_type": "markdown",
   "id": "35b56b8f678b14da",
   "metadata": {},
   "source": [
    "## Make super flats"
   ]
  },
  {
   "cell_type": "code",
   "execution_count": null,
   "id": "1f6948a561b76913",
   "metadata": {},
   "outputs": [],
   "source": [
    "from edibles_dr5.flats import make_superflat\n",
    "\n",
    "make_superflat.main()"
   ]
  },
  {
   "cell_type": "markdown",
   "id": "36c270b4",
   "metadata": {},
   "source": [
    "# Download EDIBLES data"
   ]
  },
  {
   "cell_type": "code",
   "execution_count": null,
   "id": "355dbfa5",
   "metadata": {},
   "outputs": [],
   "source": [
    "edibles_raw_dir = edr5_dir / 'EDIBLES_raw'\n",
    "edibles_raw_dir.mkdir(exist_ok=True)\n",
    "\n",
    "os.chdir(edibles_raw_dir)\n",
    "\n",
    "os.system(f'chmod u+x {download_script_dir / \"downloadScript_EDIBLES_sample.sh\"}')\n",
    "os.system(f'{download_script_dir / \"downloadScript_EDIBLES_sample.sh\"}')\n"
   ]
  },
  {
   "cell_type": "markdown",
   "id": "10aac454f7b45479",
   "metadata": {},
   "source": [
    "## Run EDPS reduction on object data"
   ]
  },
  {
   "cell_type": "code",
   "execution_count": null,
   "id": "56a408a17d93fe67",
   "metadata": {},
   "outputs": [],
   "source": [
    "os.system(f'{edps_dir / \"bin/python3\"} {edps_dir / \"bin/edps\"} -w uves.uves_wkf -i {edibles_raw_dir}')"
   ]
  },
  {
   "cell_type": "markdown",
   "id": "d905adaad04d63",
   "metadata": {},
   "source": [
    "## Rerun reductions with superflats"
   ]
  },
  {
   "cell_type": "code",
   "execution_count": null,
   "id": "dfd7daf44cc63aa9",
   "metadata": {},
   "outputs": [],
   "source": [
    "from edibles_dr5.esorex import extract_with_error_optimal, extract_with_error_average\n",
    "\n",
    "extract_with_error_optimal.main()\n",
    "extract_with_error_average.main()"
   ]
  }
 ],
 "metadata": {
  "kernelspec": {
   "display_name": ".venv",
   "language": "python",
   "name": "python3"
  },
  "language_info": {
   "codemirror_mode": {
    "name": "ipython",
    "version": 3
   },
   "file_extension": ".py",
   "mimetype": "text/x-python",
   "name": "python",
   "nbconvert_exporter": "python",
   "pygments_lexer": "ipython3",
   "version": "3.12.3"
  }
 },
 "nbformat": 4,
 "nbformat_minor": 5
}
