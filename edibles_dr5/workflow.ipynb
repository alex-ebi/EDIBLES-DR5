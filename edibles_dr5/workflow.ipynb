{
 "cells": [
  {
   "cell_type": "markdown",
   "id": "b513282d-c48f-4edb-be3f-ceb3a19b133d",
   "metadata": {},
   "source": [
    "# This is the workflow of my EDR5 reduction\n",
    "First, we download a collection of flats from the ESO archive WITH night logs!\n",
    "\n",
    "## Parameters:\n",
    "### General:\n",
    "Night: 2017 01 01 .. 2017 12 31\n",
    "User defined input: LAMP,FLAT\\\n",
    "Mode: ECHELLE\\\n",
    "Slit: FREE\n",
    "\n",
    "### Setting specific:\n",
    "346 nm setting:\\\n",
    "TPL ID: UVES_dic1_cal_flatfree\\\n",
    "(Exptime: 59 .. 60)\\\n",
    "Filter bandpass: HER_5\\\n",
    "Grating: CD#1\n",
    "\n",
    "437 nm setting:\\\n",
    "TPL ID: UVES_dic2_cal_flatfree\\\n",
    "(Exptime: 272 .. 273)\\\n",
    "Filter bandpass: HER_5\\\n",
    "Grating: CD#2\n",
    "\n",
    "564 nm setting:\\\n",
    "TPL ID: UVES_dic1_cal_flatfree\\\n",
    "(Exptime: 31 .. 32)\\\n",
    "Filter bandpass: SHP700\\\n",
    "Grating: CD#3\n",
    "\n",
    "860 nm setting:\\\n",
    "TPL ID: UVES_dic2_cal_flatfree\\\n",
    "(Exptime: 80 .. 81)\\\n",
    "Filter bandpass: OG590\\\n",
    "Grating: CD#4\n",
    "\n",
    "Respective download scripts are supplied\n",
    "\n"
   ]
  },
  {
   "cell_type": "code",
   "execution_count": 1,
   "id": "b6dc9014-71bc-45e0-834f-daecbaf8bedb",
   "metadata": {
    "ExecuteTime": {
     "end_time": "2024-11-26T08:08:33.975459Z",
     "start_time": "2024-11-26T08:08:33.970883Z"
    }
   },
   "outputs": [],
   "source": [
    "from pathlib import Path\n",
    "import os\n",
    "from edibles_dr5.paths import edr5_dir\n",
    "from importlib.resources import files"
   ]
  },
  {
   "cell_type": "markdown",
   "id": "1eee800738a740fc",
   "metadata": {},
   "source": [
    "## Download flats for super flats\n"
   ]
  },
  {
   "cell_type": "code",
   "execution_count": 11,
   "id": "282f9a374cd0a13a",
   "metadata": {
    "ExecuteTime": {
     "end_time": "2024-11-25T09:33:06.412896Z",
     "start_time": "2024-11-25T09:28:10.114626Z"
    }
   },
   "outputs": [
    {
     "data": {
      "text/plain": [
       "0"
      ]
     },
     "execution_count": 11,
     "metadata": {},
     "output_type": "execute_result"
    }
   ],
   "source": [
    "flat_dir = edr5_dir / 'flat_raw'\n",
    "download_script_dir = files('edibles_dr5') / 'supporting_data'\n",
    "\n",
    "# Execute shell scripts\n",
    "os.chdir(flat_dir)\n",
    "# script_names = ['downloadScript_346nm.sh', 'downloadScript_437nm.sh', 'downloadScript_564nm.sh',\n",
    "#                 'downloadScript_860nm.sh']\n",
    "script_names = ['downloadScript_564nm.sh']\n",
    "for script in script_names:\n",
    "    os.system(f'{download_script_dir / script}')\n",
    "# Uncompress files\n",
    "os.system('uncompress *.Z')"
   ]
  },
  {
   "cell_type": "markdown",
   "id": "e578b8e2688dfc56",
   "metadata": {},
   "source": [
    "## Download BIAS for super BIAS\n",
    "It is possible that a lot of nise is introduced by noisy bias frames. This is why we make a super bias too."
   ]
  },
  {
   "cell_type": "markdown",
   "id": "784b38cf8497e04",
   "metadata": {},
   "source": [
    "## Download BIAS files for FLATS\n",
    "the downloaded flats are raw and need their respective bias files. Those are specified in the night logs.\\\n",
    "(Note: Also download LAMP,ORDERDEF, bcause it is needed for reduction of master flats)"
   ]
  },
  {
   "cell_type": "code",
   "execution_count": null,
   "id": "af58b68089c5a4d7",
   "metadata": {
    "ExecuteTime": {
     "end_time": "2024-11-25T10:15:31.088089Z",
     "start_time": "2024-11-25T10:15:29.862210Z"
    }
   },
   "outputs": [],
   "source": [
    "from edibles_dr5.flats import download_associated_bias\n",
    "\n",
    "download_associated_bias.main(flat_dir)"
   ]
  },
  {
   "cell_type": "markdown",
   "id": "b8cc8656320b0aee",
   "metadata": {},
   "source": [
    "## Make master biases with EDPS"
   ]
  },
  {
   "cell_type": "code",
   "execution_count": 2,
   "id": "5c4b04e038f77fe6",
   "metadata": {
    "ExecuteTime": {
     "end_time": "2024-11-26T08:08:38.919034Z",
     "start_time": "2024-11-26T08:08:38.916581Z"
    }
   },
   "outputs": [
    {
     "name": "stdout",
     "output_type": "stream",
     "text": [
      "edps -w uves.uves_wkf -i /home/alex/data/EDR5/bias -t bias\n"
     ]
    }
   ],
   "source": [
    "bias_dir = edr5_dir / 'bias'\n",
    "# print(f'edps -w uves.uves_wkf -i {bias_dir} -t bias')\n",
    "os.system(f'edps -w uves.uves_wkf -i {bias_dir} -t bias')"
   ]
  },
  {
   "cell_type": "markdown",
   "id": "16aef51f3bbb7410",
   "metadata": {},
   "source": [
    "## Make master flats with EDPS"
   ]
  },
  {
   "cell_type": "code",
   "execution_count": 3,
   "id": "76a5e6e236f3ea55",
   "metadata": {
    "ExecuteTime": {
     "end_time": "2024-11-26T08:36:02.414195Z",
     "start_time": "2024-11-26T08:36:02.267268Z"
    }
   },
   "outputs": [
    {
     "ename": "NameError",
     "evalue": "name 'flat_dir' is not defined",
     "output_type": "error",
     "traceback": [
      "\u001b[0;31m---------------------------------------------------------------------------\u001b[0m",
      "\u001b[0;31mNameError\u001b[0m                                 Traceback (most recent call last)",
      "Cell \u001b[0;32mIn[3], line 1\u001b[0m\n\u001b[0;32m----> 1\u001b[0m \u001b[38;5;28mprint\u001b[39m(\u001b[38;5;124mf\u001b[39m\u001b[38;5;124m'\u001b[39m\u001b[38;5;124medps -w uves.uves_wkf -i \u001b[39m\u001b[38;5;132;01m{\u001b[39;00m\u001b[43mflat_dir\u001b[49m\u001b[38;5;132;01m}\u001b[39;00m\u001b[38;5;124m -t flat\u001b[39m\u001b[38;5;124m'\u001b[39m)\n\u001b[1;32m      2\u001b[0m \u001b[38;5;66;03m# os.system(f'edps -w uves.uves_wkf -i {flat_dir} -t flat')\u001b[39;00m\n",
      "\u001b[0;31mNameError\u001b[0m: name 'flat_dir' is not defined"
     ]
    }
   ],
   "source": [
    "print(f'edps -w uves.uves_wkf -i {flat_dir} -t flat')\n",
    "# os.system(f'edps -w uves.uves_wkf -i {flat_dir} -t flat')"
   ]
  },
  {
   "cell_type": "markdown",
   "id": "3fd942f98fbfbb23",
   "metadata": {},
   "source": [
    "## Make super biases\n",
    "More master biases are created while making the master flats"
   ]
  },
  {
   "cell_type": "code",
   "execution_count": null,
   "id": "fc70e7088a37fed1",
   "metadata": {},
   "outputs": [],
   "source": [
    "from edibles_dr5.bias import make_superbias\n",
    "\n",
    "make_superbias.main()"
   ]
  },
  {
   "cell_type": "markdown",
   "id": "35b56b8f678b14da",
   "metadata": {},
   "source": [
    "## Make super flats"
   ]
  },
  {
   "cell_type": "code",
   "execution_count": null,
   "id": "1f6948a561b76913",
   "metadata": {},
   "outputs": [],
   "source": [
    "from edibles_dr5.flats import make_superflat\n",
    "\n",
    "make_superflat.main()"
   ]
  },
  {
   "cell_type": "markdown",
   "id": "10aac454f7b45479",
   "metadata": {},
   "source": [
    "## Run EDPS reduction on object data"
   ]
  },
  {
   "cell_type": "code",
   "execution_count": null,
   "id": "56a408a17d93fe67",
   "metadata": {},
   "outputs": [],
   "source": [
    "os.system(f'edps -w uves.uves_wkf -i {edr5_dir / \"HD170740_07_05\"}')"
   ]
  },
  {
   "cell_type": "markdown",
   "id": "d905adaad04d63",
   "metadata": {},
   "source": [
    "## Rerun reductions with superflats"
   ]
  },
  {
   "cell_type": "code",
   "execution_count": null,
   "id": "dfd7daf44cc63aa9",
   "metadata": {},
   "outputs": [],
   "source": [
    "from edibles_dr5.esorex import extract_with_error\n",
    "\n",
    "extract_with_error.main()"
   ]
  }
 ],
 "metadata": {
  "kernelspec": {
   "display_name": "Python 3 (ipykernel)",
   "language": "python",
   "name": "python3"
  },
  "language_info": {
   "codemirror_mode": {
    "name": "ipython",
    "version": 3
   },
   "file_extension": ".py",
   "mimetype": "text/x-python",
   "name": "python",
   "nbconvert_exporter": "python",
   "pygments_lexer": "ipython3",
   "version": "3.10.12"
  }
 },
 "nbformat": 4,
 "nbformat_minor": 5
}
